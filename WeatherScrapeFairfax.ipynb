{
 "cells": [
  {
   "cell_type": "code",
   "execution_count": 26,
   "id": "374c9d7a",
   "metadata": {},
   "outputs": [
    {
     "name": "stdout",
     "output_type": "stream",
     "text": [
      "<div class=\"tombstone-container\">\n",
      " <p class=\"period-name\">\n",
      "  This\n",
      "  <br/>\n",
      "  Afternoon\n",
      " </p>\n",
      " <p>\n",
      "  <img alt=\"This Afternoon: Sunny, with a high near 30. Light west wind. \" class=\"forecast-icon\" src=\"newimages/medium/few.png\" title=\"This Afternoon: Sunny, with a high near 30. Light west wind. \"/>\n",
      " </p>\n",
      " <p class=\"short-desc\">\n",
      "  Sunny\n",
      " </p>\n",
      " <p class=\"temp temp-high\">\n",
      "  High: 30 °F\n",
      " </p>\n",
      "</div>\n"
     ]
    },
    {
     "data": {
      "text/plain": [
       "9"
      ]
     },
     "execution_count": 26,
     "metadata": {},
     "output_type": "execute_result"
    }
   ],
   "source": [
    "#import libraries\n",
    "import requests\n",
    "import pandas as pd\n",
    "\n",
    "from bs4 import BeautifulSoup\n",
    "\n",
    "# Specify the source for weather in Fairfax for seven days\n",
    "page = requests.get(\"https://forecast.weather.gov/MapClick.php?lat=38.84185000000008&lon=-77.30904999999996#.YexXy_7MIaZ\")\n",
    "soup = BeautifulSoup(page.content, 'html.parser')\n",
    "seven_day = soup.find(id=\"seven-day-forecast\")\n",
    "forecast_items = seven_day.find_all(class_=\"tombstone-container\")\n",
    "tonight = forecast_items[0]\n",
    "print(tonight.prettify())\n",
    "len(forecast_items)"
   ]
  },
  {
   "cell_type": "code",
   "execution_count": 28,
   "id": "52cb5152",
   "metadata": {},
   "outputs": [
    {
     "name": "stdout",
     "output_type": "stream",
     "text": [
      "ThisAfternoon\n",
      "Sunny\n",
      "High: 30 °F\n",
      "This Afternoon: Sunny, with a high near 30. Light west wind. \n"
     ]
    }
   ],
   "source": [
    "# Extracting information from the page\n",
    "\n",
    "period = tonight.find(class_=\"period-name\").get_text()\n",
    "short_desc = tonight.find(class_=\"short-desc\").get_text()\n",
    "temp = tonight.find(class_=\"temp\").get_text()\n",
    "print(period)\n",
    "print(short_desc)\n",
    "print(temp)\n",
    "\n",
    "img = tonight.find(\"img\")\n",
    "desc = img['title']\n",
    "print(desc)"
   ]
  },
  {
   "cell_type": "code",
   "execution_count": 30,
   "id": "df15793c",
   "metadata": {},
   "outputs": [
    {
     "name": "stdout",
     "output_type": "stream",
     "text": [
      "['Sunny', 'Partly Cloudy', 'Mostly Cloudy', 'Isolated SnowShowers', 'Mostly Sunny', 'Mostly Cloudy', 'ChanceRain/Snow', 'Mostly Cloudy', 'Mostly Sunny']\n",
      "['High: 30 °F', 'Low: 20 °F', 'High: 37 °F', 'Low: 21 °F', 'High: 36 °F', 'Low: 29 °F', 'High: 43 °F', 'Low: 23 °F', 'High: 31 °F']\n",
      "['This Afternoon: Sunny, with a high near 30. Light west wind. ', 'Tonight: Partly cloudy, with a low around 20. Calm wind becoming south around 5 mph. ', 'Sunday: Mostly cloudy, with a high near 37. Calm wind becoming south around 6 mph in the afternoon. ', 'Sunday Night: Isolated snow showers before 1am.  Mostly cloudy, then gradually becoming mostly clear, with a low around 21. Calm wind becoming northwest around 6 mph after midnight.  Chance of precipitation is 20%.', 'Monday: Mostly sunny, with a high near 36. Light and variable wind becoming south around 6 mph in the afternoon. ', 'Monday Night: Mostly cloudy, with a low around 29.', 'Tuesday: A chance of rain and snow showers before 1pm, then a chance of rain showers.  Mostly cloudy, with a high near 43. Chance of precipitation is 30%.', 'Tuesday Night: Mostly cloudy, with a low around 23.', 'Wednesday: Mostly sunny, with a high near 31.']\n"
     ]
    }
   ],
   "source": [
    "# extracting and specifying the features for our dataset\n",
    "period_tags = seven_day.select(\".tombstone-container .period-name\")\n",
    "periods = [pt.get_text() for pt in period_tags]\n",
    "\n",
    "short_descs = [sd.get_text() for sd in seven_day.select(\".tombstone-container .short-desc\")]\n",
    "temps = [t.get_text() for t in seven_day.select(\".tombstone-container .temp\")]\n",
    "descs = [d[\"title\"] for d in seven_day.select(\".tombstone-container img\")]\n",
    "print(short_descs)\n",
    "print(temps)\n",
    "print(descs)"
   ]
  },
  {
   "cell_type": "code",
   "execution_count": 31,
   "id": "ff132bb7",
   "metadata": {},
   "outputs": [
    {
     "data": {
      "text/html": [
       "<div>\n",
       "<style scoped>\n",
       "    .dataframe tbody tr th:only-of-type {\n",
       "        vertical-align: middle;\n",
       "    }\n",
       "\n",
       "    .dataframe tbody tr th {\n",
       "        vertical-align: top;\n",
       "    }\n",
       "\n",
       "    .dataframe thead th {\n",
       "        text-align: right;\n",
       "    }\n",
       "</style>\n",
       "<table border=\"1\" class=\"dataframe\">\n",
       "  <thead>\n",
       "    <tr style=\"text-align: right;\">\n",
       "      <th></th>\n",
       "      <th>period</th>\n",
       "      <th>short_desc</th>\n",
       "      <th>temp</th>\n",
       "      <th>desc</th>\n",
       "    </tr>\n",
       "  </thead>\n",
       "  <tbody>\n",
       "    <tr>\n",
       "      <th>0</th>\n",
       "      <td>ThisAfternoon</td>\n",
       "      <td>Sunny</td>\n",
       "      <td>High: 30 °F</td>\n",
       "      <td>This Afternoon: Sunny, with a high near 30. Li...</td>\n",
       "    </tr>\n",
       "    <tr>\n",
       "      <th>1</th>\n",
       "      <td>Tonight</td>\n",
       "      <td>Partly Cloudy</td>\n",
       "      <td>Low: 20 °F</td>\n",
       "      <td>Tonight: Partly cloudy, with a low around 20. ...</td>\n",
       "    </tr>\n",
       "    <tr>\n",
       "      <th>2</th>\n",
       "      <td>Sunday</td>\n",
       "      <td>Mostly Cloudy</td>\n",
       "      <td>High: 37 °F</td>\n",
       "      <td>Sunday: Mostly cloudy, with a high near 37. Ca...</td>\n",
       "    </tr>\n",
       "    <tr>\n",
       "      <th>3</th>\n",
       "      <td>SundayNight</td>\n",
       "      <td>Isolated SnowShowers</td>\n",
       "      <td>Low: 21 °F</td>\n",
       "      <td>Sunday Night: Isolated snow showers before 1am...</td>\n",
       "    </tr>\n",
       "    <tr>\n",
       "      <th>4</th>\n",
       "      <td>Monday</td>\n",
       "      <td>Mostly Sunny</td>\n",
       "      <td>High: 36 °F</td>\n",
       "      <td>Monday: Mostly sunny, with a high near 36. Lig...</td>\n",
       "    </tr>\n",
       "    <tr>\n",
       "      <th>5</th>\n",
       "      <td>MondayNight</td>\n",
       "      <td>Mostly Cloudy</td>\n",
       "      <td>Low: 29 °F</td>\n",
       "      <td>Monday Night: Mostly cloudy, with a low around...</td>\n",
       "    </tr>\n",
       "    <tr>\n",
       "      <th>6</th>\n",
       "      <td>Tuesday</td>\n",
       "      <td>ChanceRain/Snow</td>\n",
       "      <td>High: 43 °F</td>\n",
       "      <td>Tuesday: A chance of rain and snow showers bef...</td>\n",
       "    </tr>\n",
       "    <tr>\n",
       "      <th>7</th>\n",
       "      <td>TuesdayNight</td>\n",
       "      <td>Mostly Cloudy</td>\n",
       "      <td>Low: 23 °F</td>\n",
       "      <td>Tuesday Night: Mostly cloudy, with a low aroun...</td>\n",
       "    </tr>\n",
       "    <tr>\n",
       "      <th>8</th>\n",
       "      <td>Wednesday</td>\n",
       "      <td>Mostly Sunny</td>\n",
       "      <td>High: 31 °F</td>\n",
       "      <td>Wednesday: Mostly sunny, with a high near 31.</td>\n",
       "    </tr>\n",
       "  </tbody>\n",
       "</table>\n",
       "</div>"
      ],
      "text/plain": [
       "          period            short_desc         temp  \\\n",
       "0  ThisAfternoon                 Sunny  High: 30 °F   \n",
       "1        Tonight         Partly Cloudy   Low: 20 °F   \n",
       "2         Sunday         Mostly Cloudy  High: 37 °F   \n",
       "3    SundayNight  Isolated SnowShowers   Low: 21 °F   \n",
       "4         Monday          Mostly Sunny  High: 36 °F   \n",
       "5    MondayNight         Mostly Cloudy   Low: 29 °F   \n",
       "6        Tuesday       ChanceRain/Snow  High: 43 °F   \n",
       "7   TuesdayNight         Mostly Cloudy   Low: 23 °F   \n",
       "8      Wednesday          Mostly Sunny  High: 31 °F   \n",
       "\n",
       "                                                desc  \n",
       "0  This Afternoon: Sunny, with a high near 30. Li...  \n",
       "1  Tonight: Partly cloudy, with a low around 20. ...  \n",
       "2  Sunday: Mostly cloudy, with a high near 37. Ca...  \n",
       "3  Sunday Night: Isolated snow showers before 1am...  \n",
       "4  Monday: Mostly sunny, with a high near 36. Lig...  \n",
       "5  Monday Night: Mostly cloudy, with a low around...  \n",
       "6  Tuesday: A chance of rain and snow showers bef...  \n",
       "7  Tuesday Night: Mostly cloudy, with a low aroun...  \n",
       "8      Wednesday: Mostly sunny, with a high near 31.  "
      ]
     },
     "execution_count": 31,
     "metadata": {},
     "output_type": "execute_result"
    }
   ],
   "source": [
    "weather = pd.DataFrame({\n",
    "    \"period\": periods,\n",
    "    \"short_desc\": short_descs,\n",
    "    \"temp\": temps,\n",
    "    \"desc\":descs\n",
    "})\n",
    "weather"
   ]
  },
  {
   "cell_type": "code",
   "execution_count": 35,
   "id": "7bf71152",
   "metadata": {},
   "outputs": [
    {
     "name": "stdout",
     "output_type": "stream",
     "text": [
      "2    37\n",
      "3    21\n",
      "4    36\n",
      "5    29\n",
      "6    43\n",
      "7    23\n",
      "8    31\n",
      "Name: temp_num, dtype: int32\n"
     ]
    },
    {
     "data": {
      "text/plain": [
       "31.428571428571427"
      ]
     },
     "execution_count": 35,
     "metadata": {},
     "output_type": "execute_result"
    }
   ],
   "source": [
    "# average of tempreature for next seven days.\n",
    "\n",
    "temp_nums = weather[\"temp\"].str.extract('([0-9]+)')\n",
    "weather[\"temp_num\"] = temp_nums.astype('int')\n",
    "print(weather[\"temp_num\"][2:9])\n",
    "weather[\"temp_num\"][2:9].mean()"
   ]
  },
  {
   "cell_type": "code",
   "execution_count": 36,
   "id": "44bf495e",
   "metadata": {},
   "outputs": [
    {
     "data": {
      "text/plain": [
       "0    False\n",
       "1     True\n",
       "2    False\n",
       "3     True\n",
       "4    False\n",
       "5     True\n",
       "6    False\n",
       "7     True\n",
       "8    False\n",
       "Name: temp, dtype: bool"
      ]
     },
     "execution_count": 36,
     "metadata": {},
     "output_type": "execute_result"
    }
   ],
   "source": [
    "is_night = weather[\"temp\"].str.contains(\"Low\")\n",
    "weather[\"is_night\"] = is_night\n",
    "is_night"
   ]
  },
  {
   "cell_type": "code",
   "execution_count": null,
   "id": "264ef674",
   "metadata": {},
   "outputs": [],
   "source": []
  }
 ],
 "metadata": {
  "kernelspec": {
   "display_name": "Python 3",
   "language": "python",
   "name": "python3"
  },
  "language_info": {
   "codemirror_mode": {
    "name": "ipython",
    "version": 3
   },
   "file_extension": ".py",
   "mimetype": "text/x-python",
   "name": "python",
   "nbconvert_exporter": "python",
   "pygments_lexer": "ipython3",
   "version": "3.8.8"
  }
 },
 "nbformat": 4,
 "nbformat_minor": 5
}
